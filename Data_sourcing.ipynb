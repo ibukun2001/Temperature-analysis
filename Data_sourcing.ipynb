{
 "cells": [
  {
   "cell_type": "markdown",
   "metadata": {},
   "source": [
    "This notebook will be used to download temperature data from the cds api. The data will be averaged into decades"
   ]
  },
  {
   "cell_type": "code",
   "execution_count": 1,
   "metadata": {},
   "outputs": [],
   "source": [
    "#%pip install cdsapi\n",
    "#%pip install netCDF4\n",
    "#%pip install h5netcdf\n",
    "#%pip install cfgrib"
   ]
  },
  {
   "cell_type": "code",
   "execution_count": 2,
   "metadata": {},
   "outputs": [],
   "source": [
    "# Import needed libraries\n",
    "import cdsapi\n",
    "import xarray as xr\n",
    "import pandas as pd\n",
    "import numpy as np\n",
    "import os\n",
    "\n"
   ]
  },
  {
   "cell_type": "code",
   "execution_count": 3,
   "metadata": {},
   "outputs": [
    {
     "name": "stderr",
     "output_type": "stream",
     "text": [
      "2025-04-09 15:51:07,818 INFO [2024-09-26T00:00:00] Watch our [Forum](https://forum.ecmwf.int/) for Announcements, news and other discussed topics.\n",
      "2025-04-09 15:51:07,820 WARNING [2024-06-16T00:00:00] CDS API syntax is changed and some keys or parameter names may have also changed. To avoid requests failing, please use the \"Show API request code\" tool on the dataset Download Form to check you are using the correct syntax for your API request.\n"
     ]
    }
   ],
   "source": [
    "client = cdsapi.Client()"
   ]
  },
  {
   "cell_type": "code",
   "execution_count": 4,
   "metadata": {},
   "outputs": [],
   "source": [
    "#f\"{year[0]}-{year[-1]}\""
   ]
  },
  {
   "cell_type": "code",
   "execution_count": null,
   "metadata": {},
   "outputs": [
    {
     "name": "stderr",
     "output_type": "stream",
     "text": [
      "2025-04-09 16:19:35,763 INFO Request ID is f670ef2f-4298-4b61-bdb3-451357456317\n",
      "Recovering from connection error [('Connection aborted.', RemoteDisconnected('Remote end closed connection without response'))], attemps 1 of 500\n",
      "Retrying in 120 seconds\n",
      "2025-04-09 16:22:26,496 INFO status has been updated to successful\n"
     ]
    },
    {
     "data": {
      "application/vnd.jupyter.widget-view+json": {
       "model_id": "a1bab831b33a4f3f8ab2368ea3cbec94",
       "version_major": 2,
       "version_minor": 0
      },
      "text/plain": [
       "ca68b106ab00d630e121dd02b2854a24.grib:   0%|          | 0.00/279k [00:00<?, ?B/s]"
      ]
     },
     "metadata": {},
     "output_type": "display_data"
    },
    {
     "name": "stderr",
     "output_type": "stream",
     "text": [
      "Ignoring index file 'downloads/1950.grib.5b7b6.idx' older than GRIB file\n"
     ]
    },
    {
     "name": "stdout",
     "output_type": "stream",
     "text": [
      "1950-12-31\n"
     ]
    },
    {
     "name": "stderr",
     "output_type": "stream",
     "text": [
      "2025-04-09 16:22:29,525 INFO Request ID is 1725d00f-960b-453d-93f6-8d337cf106ca\n",
      "2025-04-09 16:22:29,870 INFO status has been updated to accepted\n",
      "Recovering from connection error [('Connection aborted.', RemoteDisconnected('Remote end closed connection without response'))], attemps 1 of 500\n",
      "Retrying in 120 seconds\n",
      "2025-04-09 16:25:22,041 INFO status has been updated to successful\n"
     ]
    },
    {
     "data": {
      "application/vnd.jupyter.widget-view+json": {
       "model_id": "cfb914e321b54826ae48708998ee0bfb",
       "version_major": 2,
       "version_minor": 0
      },
      "text/plain": [
       "34676b13e1fc27a4241b147fd6318c73.grib:   0%|          | 0.00/279k [00:00<?, ?B/s]"
      ]
     },
     "metadata": {},
     "output_type": "display_data"
    },
    {
     "name": "stdout",
     "output_type": "stream",
     "text": [
      "1951-12-31\n"
     ]
    },
    {
     "name": "stderr",
     "output_type": "stream",
     "text": [
      "2025-04-09 16:25:25,534 INFO Request ID is e29aadef-fc66-4135-b4b1-f859359a18f9\n",
      "2025-04-09 16:25:25,734 INFO status has been updated to accepted\n",
      "2025-04-09 16:25:47,874 INFO status has been updated to successful\n"
     ]
    },
    {
     "data": {
      "application/vnd.jupyter.widget-view+json": {
       "model_id": "ff4d19efe4c24be88b6c655b3cefbe1d",
       "version_major": 2,
       "version_minor": 0
      },
      "text/plain": [
       "6af83c41defefb0499c5c914fd7298b1.grib:   0%|          | 0.00/279k [00:00<?, ?B/s]"
      ]
     },
     "metadata": {},
     "output_type": "display_data"
    },
    {
     "name": "stdout",
     "output_type": "stream",
     "text": [
      "1952-12-31\n"
     ]
    },
    {
     "name": "stderr",
     "output_type": "stream",
     "text": [
      "2025-04-09 16:25:51,228 INFO Request ID is 1eb1e0d6-0285-4106-ae9b-f3fa47370fbb\n",
      "2025-04-09 16:25:51,414 INFO status has been updated to accepted\n",
      "2025-04-09 16:26:00,556 INFO status has been updated to running\n",
      "2025-04-09 16:26:05,834 INFO status has been updated to successful\n"
     ]
    },
    {
     "data": {
      "application/vnd.jupyter.widget-view+json": {
       "model_id": "83dbf39644344751a96d945868b835aa",
       "version_major": 2,
       "version_minor": 0
      },
      "text/plain": [
       "df17f690ad4875c59a44805137ac4577.grib:   0%|          | 0.00/279k [00:00<?, ?B/s]"
      ]
     },
     "metadata": {},
     "output_type": "display_data"
    },
    {
     "name": "stdout",
     "output_type": "stream",
     "text": [
      "1953-12-31\n"
     ]
    },
    {
     "name": "stderr",
     "output_type": "stream",
     "text": [
      "2025-04-09 16:26:08,658 INFO Request ID is 5620d5a1-3948-4cca-a3d3-b92906e65169\n",
      "2025-04-09 16:26:08,834 INFO status has been updated to accepted\n",
      "2025-04-09 16:26:14,173 INFO status has been updated to running\n",
      "2025-04-09 16:26:42,376 INFO status has been updated to successful\n"
     ]
    },
    {
     "data": {
      "application/vnd.jupyter.widget-view+json": {
       "model_id": "d99c8458d2aa4525a592d43ef3d55bc5",
       "version_major": 2,
       "version_minor": 0
      },
      "text/plain": [
       "3ae4ccd9603a5573ef30daa4e4eddef.grib:   0%|          | 0.00/279k [00:00<?, ?B/s]"
      ]
     },
     "metadata": {},
     "output_type": "display_data"
    },
    {
     "name": "stdout",
     "output_type": "stream",
     "text": [
      "1954-12-31\n"
     ]
    },
    {
     "name": "stderr",
     "output_type": "stream",
     "text": [
      "2025-04-09 16:26:46,071 INFO Request ID is 2ac87794-6e7a-4849-8353-84b3fc830155\n",
      "2025-04-09 16:26:46,276 INFO status has been updated to accepted\n",
      "2025-04-09 16:27:00,542 INFO status has been updated to running\n",
      "2025-04-09 16:27:08,347 INFO status has been updated to successful\n"
     ]
    },
    {
     "data": {
      "application/vnd.jupyter.widget-view+json": {
       "model_id": "1ba427dc49564accbe905940a22d3cf9",
       "version_major": 2,
       "version_minor": 0
      },
      "text/plain": [
       "2cc7af2f5235f3d9accfcc46aab05d15.grib:   0%|          | 0.00/279k [00:00<?, ?B/s]"
      ]
     },
     "metadata": {},
     "output_type": "display_data"
    },
    {
     "name": "stdout",
     "output_type": "stream",
     "text": [
      "1955-12-31\n"
     ]
    },
    {
     "name": "stderr",
     "output_type": "stream",
     "text": [
      "2025-04-09 16:27:11,661 INFO Request ID is 7a3d7619-03fc-49c1-8a8d-b11748f54bb0\n",
      "2025-04-09 16:27:11,875 INFO status has been updated to accepted\n",
      "2025-04-09 16:27:20,795 INFO status has been updated to running\n",
      "2025-04-09 16:27:33,828 INFO status has been updated to successful\n"
     ]
    },
    {
     "data": {
      "application/vnd.jupyter.widget-view+json": {
       "model_id": "51ffd69fe7f14461948dd2aeb5f24f8e",
       "version_major": 2,
       "version_minor": 0
      },
      "text/plain": [
       "94d395e0bf63f9339d52a9c872289e7a.grib:   0%|          | 0.00/279k [00:00<?, ?B/s]"
      ]
     },
     "metadata": {},
     "output_type": "display_data"
    },
    {
     "name": "stdout",
     "output_type": "stream",
     "text": [
      "1956-12-31\n"
     ]
    },
    {
     "name": "stderr",
     "output_type": "stream",
     "text": [
      "2025-04-09 16:27:36,979 INFO Request ID is 74ffcf39-ac03-4828-b693-809ff2a068c6\n",
      "2025-04-09 16:27:37,177 INFO status has been updated to accepted\n",
      "2025-04-09 16:27:59,251 INFO status has been updated to successful\n"
     ]
    },
    {
     "data": {
      "application/vnd.jupyter.widget-view+json": {
       "model_id": "a26d60917cb64f909c95c6159e6885be",
       "version_major": 2,
       "version_minor": 0
      },
      "text/plain": [
       "94d8f366af175a80d8cfda35fd192715.grib:   0%|          | 0.00/279k [00:00<?, ?B/s]"
      ]
     },
     "metadata": {},
     "output_type": "display_data"
    },
    {
     "name": "stdout",
     "output_type": "stream",
     "text": [
      "1957-12-31\n"
     ]
    },
    {
     "name": "stderr",
     "output_type": "stream",
     "text": [
      "2025-04-09 16:28:02,143 INFO Request ID is cd5ca28d-3c1f-47b4-9390-72a672e6e1a4\n",
      "2025-04-09 16:28:02,323 INFO status has been updated to accepted\n",
      "2025-04-09 16:28:11,517 INFO status has been updated to running\n",
      "2025-04-09 16:28:16,785 INFO status has been updated to successful\n"
     ]
    },
    {
     "data": {
      "application/vnd.jupyter.widget-view+json": {
       "model_id": "5df8ef5c17224498915279ed04ad205c",
       "version_major": 2,
       "version_minor": 0
      },
      "text/plain": [
       "26e63465e83d5f14d10a331801d78906.grib:   0%|          | 0.00/279k [00:00<?, ?B/s]"
      ]
     },
     "metadata": {},
     "output_type": "display_data"
    },
    {
     "name": "stdout",
     "output_type": "stream",
     "text": [
      "1958-12-31\n"
     ]
    },
    {
     "name": "stderr",
     "output_type": "stream",
     "text": [
      "2025-04-09 16:28:20,018 INFO Request ID is 7c33eaca-8bb1-473f-a275-73c0bd49ee10\n",
      "2025-04-09 16:28:20,227 INFO status has been updated to accepted\n",
      "2025-04-09 16:28:53,865 INFO status has been updated to successful\n"
     ]
    },
    {
     "data": {
      "application/vnd.jupyter.widget-view+json": {
       "model_id": "e1ab13117c0d470dad73e468eb60e6ee",
       "version_major": 2,
       "version_minor": 0
      },
      "text/plain": [
       "9e0a0706b581380f0eaf8385c5e9ea64.grib:   0%|          | 0.00/279k [00:00<?, ?B/s]"
      ]
     },
     "metadata": {},
     "output_type": "display_data"
    },
    {
     "name": "stdout",
     "output_type": "stream",
     "text": [
      "1959-12-31\n"
     ]
    },
    {
     "name": "stderr",
     "output_type": "stream",
     "text": [
      "2025-04-09 16:28:56,613 INFO Request ID is 0e7e77e4-ecf4-4b02-9078-da27b669ee51\n",
      "2025-04-09 16:28:56,803 INFO status has been updated to accepted\n",
      "2025-04-09 16:29:31,010 INFO status has been updated to running\n",
      "2025-04-09 16:29:48,324 INFO status has been updated to successful\n"
     ]
    },
    {
     "data": {
      "application/vnd.jupyter.widget-view+json": {
       "model_id": "a21cc4eaf2284ab7a6176263c9db0471",
       "version_major": 2,
       "version_minor": 0
      },
      "text/plain": [
       "f199e7c4626f8b916ed42a1cc878d2a0.grib:   0%|          | 0.00/279k [00:00<?, ?B/s]"
      ]
     },
     "metadata": {},
     "output_type": "display_data"
    },
    {
     "name": "stdout",
     "output_type": "stream",
     "text": [
      "1960-12-31\n"
     ]
    },
    {
     "name": "stderr",
     "output_type": "stream",
     "text": [
      "2025-04-09 16:29:51,317 INFO Request ID is 0cf957ce-7d98-4c67-9cce-f0a79eed4271\n",
      "2025-04-09 16:29:51,526 INFO status has been updated to accepted\n",
      "2025-04-09 16:29:56,921 INFO status has been updated to running\n",
      "2025-04-09 16:30:05,897 INFO status has been updated to successful\n"
     ]
    },
    {
     "data": {
      "application/vnd.jupyter.widget-view+json": {
       "model_id": "e9829c92b01c4e05bcd58288cf845616",
       "version_major": 2,
       "version_minor": 0
      },
      "text/plain": [
       "aba73b49936ba0ac3122e4b9fe30f768.grib:   0%|          | 0.00/279k [00:00<?, ?B/s]"
      ]
     },
     "metadata": {},
     "output_type": "display_data"
    },
    {
     "name": "stdout",
     "output_type": "stream",
     "text": [
      "1961-12-31\n"
     ]
    },
    {
     "name": "stderr",
     "output_type": "stream",
     "text": [
      "2025-04-09 16:30:10,065 INFO Request ID is ad96f8d6-20eb-4c85-abc2-e91a98159f07\n",
      "2025-04-09 16:30:10,268 INFO status has been updated to accepted\n",
      "2025-04-09 16:30:19,593 INFO status has been updated to running\n",
      "2025-04-09 16:30:32,717 INFO status has been updated to successful\n"
     ]
    },
    {
     "data": {
      "application/vnd.jupyter.widget-view+json": {
       "model_id": "65481cad86d1462eafa60bd23dfab147",
       "version_major": 2,
       "version_minor": 0
      },
      "text/plain": [
       "933503a3a70db63e91c749d4214663c3.grib:   0%|          | 0.00/279k [00:00<?, ?B/s]"
      ]
     },
     "metadata": {},
     "output_type": "display_data"
    },
    {
     "name": "stdout",
     "output_type": "stream",
     "text": [
      "1962-12-31\n"
     ]
    },
    {
     "name": "stderr",
     "output_type": "stream",
     "text": [
      "2025-04-09 16:30:35,812 INFO Request ID is a629cad0-5574-4096-adaa-1998e874a436\n",
      "2025-04-09 16:30:35,987 INFO status has been updated to accepted\n",
      "2025-04-09 16:30:44,893 INFO status has been updated to running\n",
      "2025-04-09 16:30:57,967 INFO status has been updated to successful\n"
     ]
    },
    {
     "data": {
      "application/vnd.jupyter.widget-view+json": {
       "model_id": "9359de2703ec4ca6b83abe9714438db2",
       "version_major": 2,
       "version_minor": 0
      },
      "text/plain": [
       "dda8a6fca88383a12d3583575997bfc5.grib:   0%|          | 0.00/279k [00:00<?, ?B/s]"
      ]
     },
     "metadata": {},
     "output_type": "display_data"
    },
    {
     "name": "stdout",
     "output_type": "stream",
     "text": [
      "1963-12-31\n"
     ]
    },
    {
     "name": "stderr",
     "output_type": "stream",
     "text": [
      "2025-04-09 16:31:01,074 INFO Request ID is 5bd318a7-137e-4c6f-80af-efa1988f28ee\n",
      "2025-04-09 16:31:01,285 INFO status has been updated to accepted\n",
      "2025-04-09 16:31:07,743 INFO status has been updated to running\n",
      "2025-04-09 16:31:24,623 INFO status has been updated to successful\n"
     ]
    },
    {
     "data": {
      "application/vnd.jupyter.widget-view+json": {
       "model_id": "3b3a3cb570db42cbbf81a420999288cd",
       "version_major": 2,
       "version_minor": 0
      },
      "text/plain": [
       "19c14836482d908b04fe3b67576e2382.grib:   0%|          | 0.00/279k [00:00<?, ?B/s]"
      ]
     },
     "metadata": {},
     "output_type": "display_data"
    },
    {
     "name": "stdout",
     "output_type": "stream",
     "text": [
      "1964-12-31\n"
     ]
    },
    {
     "name": "stderr",
     "output_type": "stream",
     "text": [
      "2025-04-09 16:31:29,081 INFO Request ID is 8183a110-45fa-44d0-8e5a-12e493978a98\n",
      "2025-04-09 16:31:29,378 INFO status has been updated to accepted\n",
      "2025-04-09 16:31:51,616 INFO status has been updated to successful\n"
     ]
    },
    {
     "data": {
      "application/vnd.jupyter.widget-view+json": {
       "model_id": "d80ef238d7244166b62c5f7c209546c9",
       "version_major": 2,
       "version_minor": 0
      },
      "text/plain": [
       "825bc210267cdfcc81fd3b3602d93cad.grib:   0%|          | 0.00/279k [00:00<?, ?B/s]"
      ]
     },
     "metadata": {},
     "output_type": "display_data"
    },
    {
     "name": "stdout",
     "output_type": "stream",
     "text": [
      "1965-12-31\n"
     ]
    },
    {
     "name": "stderr",
     "output_type": "stream",
     "text": [
      "2025-04-09 16:31:54,983 INFO Request ID is 32d52aa2-9301-4c32-9e9a-9712723ff57a\n",
      "2025-04-09 16:31:55,165 INFO status has been updated to accepted\n",
      "2025-04-09 16:32:00,733 INFO status has been updated to running\n",
      "2025-04-09 16:32:09,571 INFO status has been updated to successful\n"
     ]
    },
    {
     "data": {
      "application/vnd.jupyter.widget-view+json": {
       "model_id": "134b4553f81e4df484ff45e334807664",
       "version_major": 2,
       "version_minor": 0
      },
      "text/plain": [
       "8b799eac7c7a5e10ae5a61e8a29f36c0.grib:   0%|          | 0.00/279k [00:00<?, ?B/s]"
      ]
     },
     "metadata": {},
     "output_type": "display_data"
    },
    {
     "name": "stdout",
     "output_type": "stream",
     "text": [
      "1966-12-31\n"
     ]
    },
    {
     "name": "stderr",
     "output_type": "stream",
     "text": [
      "2025-04-09 16:32:12,638 INFO Request ID is abd0e0ad-262b-4bc1-a85d-90cf05eb03a6\n",
      "2025-04-09 16:32:12,823 INFO status has been updated to accepted\n",
      "2025-04-09 16:32:27,137 INFO status has been updated to successful\n"
     ]
    },
    {
     "data": {
      "application/vnd.jupyter.widget-view+json": {
       "model_id": "50474ecb425842909db00f9b7d72e4d2",
       "version_major": 2,
       "version_minor": 0
      },
      "text/plain": [
       "dd9b48828807fdf482e7b48e739f5e79.grib:   0%|          | 0.00/279k [00:00<?, ?B/s]"
      ]
     },
     "metadata": {},
     "output_type": "display_data"
    },
    {
     "name": "stdout",
     "output_type": "stream",
     "text": [
      "1967-12-31\n"
     ]
    },
    {
     "name": "stderr",
     "output_type": "stream",
     "text": [
      "2025-04-09 16:32:30,215 INFO Request ID is c833bfd5-f024-4fa1-a4ab-73a02d3dc34f\n",
      "2025-04-09 16:32:30,598 INFO status has been updated to accepted\n",
      "2025-04-09 16:32:39,767 INFO status has been updated to running\n",
      "2025-04-09 16:32:52,851 INFO status has been updated to successful\n"
     ]
    },
    {
     "data": {
      "application/vnd.jupyter.widget-view+json": {
       "model_id": "6a3a6e020c9e4442a9656e8c47dc08c9",
       "version_major": 2,
       "version_minor": 0
      },
      "text/plain": [
       "323a6aa3040c2628823f170736e84428.grib:   0%|          | 0.00/279k [00:00<?, ?B/s]"
      ]
     },
     "metadata": {},
     "output_type": "display_data"
    },
    {
     "name": "stdout",
     "output_type": "stream",
     "text": [
      "1968-12-31\n"
     ]
    },
    {
     "name": "stderr",
     "output_type": "stream",
     "text": [
      "2025-04-09 16:32:55,725 INFO Request ID is e0e564a5-bc2c-4547-8c20-c367c814aa65\n",
      "2025-04-09 16:32:55,909 INFO status has been updated to accepted\n",
      "2025-04-09 16:33:01,698 INFO status has been updated to running\n",
      "2025-04-09 16:33:05,250 INFO status has been updated to accepted\n",
      "2025-04-09 16:33:10,630 INFO status has been updated to successful\n"
     ]
    },
    {
     "data": {
      "application/vnd.jupyter.widget-view+json": {
       "model_id": "372acdcb2093481782cce4cec1d6d5e9",
       "version_major": 2,
       "version_minor": 0
      },
      "text/plain": [
       "df7d9f4e73538dcad98cb5008c270922.grib:   0%|          | 0.00/279k [00:00<?, ?B/s]"
      ]
     },
     "metadata": {},
     "output_type": "display_data"
    },
    {
     "name": "stdout",
     "output_type": "stream",
     "text": [
      "1969-12-31\n"
     ]
    },
    {
     "name": "stderr",
     "output_type": "stream",
     "text": [
      "2025-04-09 16:33:13,646 INFO Request ID is 5449e11e-ee1a-4c21-aff2-9de4e1d8b0ea\n",
      "2025-04-09 16:33:13,911 INFO status has been updated to accepted\n",
      "2025-04-09 16:33:23,031 INFO status has been updated to running\n",
      "2025-04-09 16:33:36,209 INFO status has been updated to successful\n"
     ]
    },
    {
     "data": {
      "application/vnd.jupyter.widget-view+json": {
       "model_id": "451780ff183d4d0da5b1c26bf5411025",
       "version_major": 2,
       "version_minor": 0
      },
      "text/plain": [
       "afa968910490f00540c42b1fe5e352e.grib:   0%|          | 0.00/279k [00:00<?, ?B/s]"
      ]
     },
     "metadata": {},
     "output_type": "display_data"
    },
    {
     "name": "stdout",
     "output_type": "stream",
     "text": [
      "1970-12-31\n"
     ]
    },
    {
     "name": "stderr",
     "output_type": "stream",
     "text": [
      "2025-04-09 16:33:39,890 INFO Request ID is 0feabad2-b6b4-4003-86ec-c3fb2e9093ed\n",
      "2025-04-09 16:33:40,111 INFO status has been updated to accepted\n",
      "2025-04-09 16:33:54,803 INFO status has been updated to successful\n"
     ]
    },
    {
     "data": {
      "application/vnd.jupyter.widget-view+json": {
       "model_id": "7f9e9d78aa3e4ad5998cf30ce26f57f5",
       "version_major": 2,
       "version_minor": 0
      },
      "text/plain": [
       "b31f9f1cbbc728d86b4b1e830bad0879.grib:   0%|          | 0.00/279k [00:00<?, ?B/s]"
      ]
     },
     "metadata": {},
     "output_type": "display_data"
    },
    {
     "name": "stdout",
     "output_type": "stream",
     "text": [
      "1971-12-31\n"
     ]
    },
    {
     "name": "stderr",
     "output_type": "stream",
     "text": [
      "2025-04-09 16:33:57,625 INFO Request ID is 70083f22-2e2f-414f-a0a6-b33327857886\n",
      "2025-04-09 16:33:57,805 INFO status has been updated to accepted\n",
      "2025-04-09 16:34:06,730 INFO status has been updated to running\n",
      "2025-04-09 16:34:19,896 INFO status has been updated to successful\n"
     ]
    },
    {
     "data": {
      "application/vnd.jupyter.widget-view+json": {
       "model_id": "290fb52450454085b782de16f8040a0e",
       "version_major": 2,
       "version_minor": 0
      },
      "text/plain": [
       "c915f67601de20f62b09deea9ecd05a1.grib:   0%|          | 0.00/279k [00:00<?, ?B/s]"
      ]
     },
     "metadata": {},
     "output_type": "display_data"
    },
    {
     "name": "stdout",
     "output_type": "stream",
     "text": [
      "1972-12-31\n"
     ]
    },
    {
     "name": "stderr",
     "output_type": "stream",
     "text": [
      "2025-04-09 16:34:23,125 INFO Request ID is 40872c6f-0e18-4991-a1ea-9b3de7a6e347\n",
      "2025-04-09 16:34:23,312 INFO status has been updated to accepted\n",
      "2025-04-09 16:34:45,337 INFO status has been updated to successful\n"
     ]
    },
    {
     "data": {
      "application/vnd.jupyter.widget-view+json": {
       "model_id": "a202175be66e48338f6fb4eef42301b3",
       "version_major": 2,
       "version_minor": 0
      },
      "text/plain": [
       "2241ef61d3620e8ec376882414dc6c0a.grib:   0%|          | 0.00/279k [00:00<?, ?B/s]"
      ]
     },
     "metadata": {},
     "output_type": "display_data"
    },
    {
     "name": "stdout",
     "output_type": "stream",
     "text": [
      "1973-12-31\n"
     ]
    },
    {
     "name": "stderr",
     "output_type": "stream",
     "text": [
      "2025-04-09 16:34:48,447 INFO Request ID is b6f3e7b4-0d05-4461-aa10-3fe4367e08ce\n",
      "2025-04-09 16:34:48,730 INFO status has been updated to accepted\n",
      "2025-04-09 16:35:03,045 INFO status has been updated to running\n",
      "2025-04-09 16:35:10,890 INFO status has been updated to successful\n"
     ]
    },
    {
     "data": {
      "application/vnd.jupyter.widget-view+json": {
       "model_id": "5533bf45bbaa4286ac91de9ce900b6be",
       "version_major": 2,
       "version_minor": 0
      },
      "text/plain": [
       "c176b219a6d18ea3d294c98c9cbfc6c7.grib:   0%|          | 0.00/279k [00:00<?, ?B/s]"
      ]
     },
     "metadata": {},
     "output_type": "display_data"
    },
    {
     "name": "stdout",
     "output_type": "stream",
     "text": [
      "1974-12-31\n"
     ]
    },
    {
     "name": "stderr",
     "output_type": "stream",
     "text": [
      "2025-04-09 16:35:15,227 INFO Request ID is c151641f-a678-40cf-9320-eec164fe292b\n",
      "2025-04-09 16:35:15,498 INFO status has been updated to accepted\n",
      "2025-04-09 16:35:30,099 INFO status has been updated to running\n",
      "2025-04-09 16:35:49,930 INFO status has been updated to successful\n"
     ]
    },
    {
     "data": {
      "application/vnd.jupyter.widget-view+json": {
       "model_id": "700b0aff67244f94bc4d137a91d7b888",
       "version_major": 2,
       "version_minor": 0
      },
      "text/plain": [
       "203f9aa17e976b64bfb2867ecd670319.grib:   0%|          | 0.00/279k [00:00<?, ?B/s]"
      ]
     },
     "metadata": {},
     "output_type": "display_data"
    },
    {
     "name": "stdout",
     "output_type": "stream",
     "text": [
      "1975-12-31\n"
     ]
    },
    {
     "name": "stderr",
     "output_type": "stream",
     "text": [
      "2025-04-09 16:35:53,234 INFO Request ID is e68a773c-eeb4-4bed-8c77-142a0357a669\n",
      "2025-04-09 16:35:53,424 INFO status has been updated to accepted\n",
      "2025-04-09 16:36:02,588 INFO status has been updated to running\n",
      "2025-04-09 16:36:15,658 INFO status has been updated to successful\n"
     ]
    },
    {
     "data": {
      "application/vnd.jupyter.widget-view+json": {
       "model_id": "978e0ffa4708472fa319f2e0ad1b59f2",
       "version_major": 2,
       "version_minor": 0
      },
      "text/plain": [
       "e43571376cc04bb6e1cc711d0a71675c.grib:   0%|          | 0.00/279k [00:00<?, ?B/s]"
      ]
     },
     "metadata": {},
     "output_type": "display_data"
    },
    {
     "name": "stdout",
     "output_type": "stream",
     "text": [
      "1976-12-31\n"
     ]
    },
    {
     "name": "stderr",
     "output_type": "stream",
     "text": [
      "2025-04-09 16:36:18,885 INFO Request ID is 4d9cd389-3489-45b4-84ab-32ae53948cb4\n",
      "2025-04-09 16:36:19,089 INFO status has been updated to accepted\n",
      "2025-04-09 16:36:24,597 INFO status has been updated to running\n",
      "2025-04-09 16:36:33,412 INFO status has been updated to successful\n"
     ]
    },
    {
     "data": {
      "application/vnd.jupyter.widget-view+json": {
       "model_id": "e5269e7c7e794c39bc2398a0a96c3e9d",
       "version_major": 2,
       "version_minor": 0
      },
      "text/plain": [
       "b8a0a39cd83d244ad242ecc4f9d6440b.grib:   0%|          | 0.00/279k [00:00<?, ?B/s]"
      ]
     },
     "metadata": {},
     "output_type": "display_data"
    },
    {
     "name": "stdout",
     "output_type": "stream",
     "text": [
      "1977-12-31\n"
     ]
    },
    {
     "name": "stderr",
     "output_type": "stream",
     "text": [
      "2025-04-09 16:36:36,384 INFO Request ID is 4d315413-6b8d-493c-b096-39b700a27d64\n",
      "2025-04-09 16:36:36,890 INFO status has been updated to accepted\n",
      "2025-04-09 16:36:58,840 INFO status has been updated to successful\n"
     ]
    },
    {
     "data": {
      "application/vnd.jupyter.widget-view+json": {
       "model_id": "a9e21267bc5745ab94497b65d5acd3d7",
       "version_major": 2,
       "version_minor": 0
      },
      "text/plain": [
       "afddcf92adbfff13167c58925917e2b0.grib:   0%|          | 0.00/279k [00:00<?, ?B/s]"
      ]
     },
     "metadata": {},
     "output_type": "display_data"
    },
    {
     "name": "stdout",
     "output_type": "stream",
     "text": [
      "1978-12-31\n"
     ]
    },
    {
     "name": "stderr",
     "output_type": "stream",
     "text": [
      "2025-04-09 16:37:02,531 INFO Request ID is c73c3336-8e94-4c17-82b1-f3efc1dbc732\n",
      "2025-04-09 16:37:02,722 INFO status has been updated to accepted\n",
      "2025-04-09 16:37:08,099 INFO status has been updated to running\n",
      "2025-04-09 16:37:16,955 INFO status has been updated to successful\n"
     ]
    },
    {
     "data": {
      "application/vnd.jupyter.widget-view+json": {
       "model_id": "d4825b3bbaf34cbb9363e5ba85dc9496",
       "version_major": 2,
       "version_minor": 0
      },
      "text/plain": [
       "f49fb20c8767bb90de03cad04cd27b33.grib:   0%|          | 0.00/279k [00:00<?, ?B/s]"
      ]
     },
     "metadata": {},
     "output_type": "display_data"
    },
    {
     "name": "stdout",
     "output_type": "stream",
     "text": [
      "1979-12-31\n"
     ]
    },
    {
     "name": "stderr",
     "output_type": "stream",
     "text": [
      "2025-04-09 16:37:20,326 INFO Request ID is 84ad4e8a-ad25-400b-9fa9-a37758313a58\n",
      "2025-04-09 16:37:20,565 INFO status has been updated to accepted\n",
      "2025-04-09 16:37:35,005 INFO status has been updated to successful\n"
     ]
    },
    {
     "data": {
      "application/vnd.jupyter.widget-view+json": {
       "model_id": "b5d0177e972b475c97341af44da28aef",
       "version_major": 2,
       "version_minor": 0
      },
      "text/plain": [
       "4f43ae61960c16a3cc4d7f564cb2ffb0.grib:   0%|          | 0.00/279k [00:00<?, ?B/s]"
      ]
     },
     "metadata": {},
     "output_type": "display_data"
    },
    {
     "name": "stdout",
     "output_type": "stream",
     "text": [
      "1980-12-31\n"
     ]
    },
    {
     "name": "stderr",
     "output_type": "stream",
     "text": [
      "2025-04-09 16:37:38,596 INFO Request ID is a534b5ae-e1b4-4f50-acb2-a1727415453f\n",
      "2025-04-09 16:37:38,773 INFO status has been updated to accepted\n",
      "2025-04-09 16:38:12,630 INFO status has been updated to running\n",
      "2025-04-09 16:38:29,956 INFO status has been updated to successful\n"
     ]
    },
    {
     "data": {
      "application/vnd.jupyter.widget-view+json": {
       "model_id": "ab1b9435195840f1bf94d3a5a2c686ce",
       "version_major": 2,
       "version_minor": 0
      },
      "text/plain": [
       "56b1b53df0c55c6b7103dae53c9aa70.grib:   0%|          | 0.00/279k [00:00<?, ?B/s]"
      ]
     },
     "metadata": {},
     "output_type": "display_data"
    },
    {
     "name": "stdout",
     "output_type": "stream",
     "text": [
      "1981-12-31\n"
     ]
    },
    {
     "name": "stderr",
     "output_type": "stream",
     "text": [
      "2025-04-09 16:38:32,764 INFO Request ID is 080d1fc7-e671-4562-b00b-f690579f1817\n",
      "2025-04-09 16:38:33,219 INFO status has been updated to accepted\n",
      "2025-04-09 16:38:42,154 INFO status has been updated to running\n",
      "2025-04-09 16:38:55,180 INFO status has been updated to successful\n"
     ]
    },
    {
     "data": {
      "application/vnd.jupyter.widget-view+json": {
       "model_id": "c5f0890eb427447fbd148e3c99d7cce6",
       "version_major": 2,
       "version_minor": 0
      },
      "text/plain": [
       "73a9da86fed240e6f904c3d87bb3c759.grib:   0%|          | 0.00/279k [00:00<?, ?B/s]"
      ]
     },
     "metadata": {},
     "output_type": "display_data"
    },
    {
     "name": "stdout",
     "output_type": "stream",
     "text": [
      "1982-12-31\n"
     ]
    },
    {
     "name": "stderr",
     "output_type": "stream",
     "text": [
      "2025-04-09 16:38:58,352 INFO Request ID is ee8e49f8-ba2d-4007-9521-f155a1958f72\n",
      "2025-04-09 16:38:58,553 INFO status has been updated to accepted\n",
      "2025-04-09 16:39:07,493 INFO status has been updated to running\n",
      "2025-04-09 16:39:20,537 INFO status has been updated to successful\n"
     ]
    },
    {
     "data": {
      "application/vnd.jupyter.widget-view+json": {
       "model_id": "bb02b90b2e0a492fb9c2f6b6d1ebe661",
       "version_major": 2,
       "version_minor": 0
      },
      "text/plain": [
       "da7a23f8fdf4516c565e4f1fba4bfb87.grib:   0%|          | 0.00/279k [00:00<?, ?B/s]"
      ]
     },
     "metadata": {},
     "output_type": "display_data"
    },
    {
     "name": "stdout",
     "output_type": "stream",
     "text": [
      "1983-12-31\n"
     ]
    },
    {
     "name": "stderr",
     "output_type": "stream",
     "text": [
      "2025-04-09 16:39:23,485 INFO Request ID is fe1f45c3-7e79-4072-a752-19a2fa033d91\n",
      "2025-04-09 16:39:23,748 INFO status has been updated to accepted\n",
      "2025-04-09 16:39:29,057 INFO status has been updated to running\n",
      "2025-04-09 16:39:38,168 INFO status has been updated to successful\n"
     ]
    },
    {
     "data": {
      "application/vnd.jupyter.widget-view+json": {
       "model_id": "bdef469e87804669861cc701f3ff9280",
       "version_major": 2,
       "version_minor": 0
      },
      "text/plain": [
       "5d03406cb6948298458517202f1e08db.grib:   0%|          | 0.00/279k [00:00<?, ?B/s]"
      ]
     },
     "metadata": {},
     "output_type": "display_data"
    },
    {
     "name": "stdout",
     "output_type": "stream",
     "text": [
      "1984-12-31\n"
     ]
    },
    {
     "name": "stderr",
     "output_type": "stream",
     "text": [
      "2025-04-09 16:39:42,652 INFO Request ID is 164ab78c-74bb-403c-b903-590e00d66238\n",
      "2025-04-09 16:39:43,011 INFO status has been updated to accepted\n",
      "2025-04-09 16:39:57,987 INFO status has been updated to running\n",
      "2025-04-09 16:40:17,444 INFO status has been updated to successful\n"
     ]
    },
    {
     "data": {
      "application/vnd.jupyter.widget-view+json": {
       "model_id": "d31f49e7b3ee402daa0889c9b0cd57ed",
       "version_major": 2,
       "version_minor": 0
      },
      "text/plain": [
       "4c7cf6b4b20201ef62b916efd425cf76.grib:   0%|          | 0.00/279k [00:00<?, ?B/s]"
      ]
     },
     "metadata": {},
     "output_type": "display_data"
    },
    {
     "name": "stdout",
     "output_type": "stream",
     "text": [
      "1985-12-31\n"
     ]
    },
    {
     "name": "stderr",
     "output_type": "stream",
     "text": [
      "2025-04-09 16:40:21,840 INFO Request ID is f9598041-2c3f-4d50-9185-f93360a085f6\n",
      "2025-04-09 16:40:22,021 INFO status has been updated to accepted\n",
      "2025-04-09 16:40:36,486 INFO status has been updated to successful\n"
     ]
    },
    {
     "data": {
      "application/vnd.jupyter.widget-view+json": {
       "model_id": "fa2d9aa2ee3245ef9cfe53a28851836f",
       "version_major": 2,
       "version_minor": 0
      },
      "text/plain": [
       "b55a1098643ea8e54c4405186b878516.grib:   0%|          | 0.00/279k [00:00<?, ?B/s]"
      ]
     },
     "metadata": {},
     "output_type": "display_data"
    },
    {
     "name": "stdout",
     "output_type": "stream",
     "text": [
      "1986-12-31\n"
     ]
    },
    {
     "name": "stderr",
     "output_type": "stream",
     "text": [
      "2025-04-09 16:40:39,391 INFO Request ID is 2dc67e2f-1beb-455d-8a2c-ab79c978ff10\n",
      "2025-04-09 16:40:39,581 INFO status has been updated to accepted\n",
      "2025-04-09 16:40:48,725 INFO status has been updated to running\n",
      "2025-04-09 16:41:01,764 INFO status has been updated to successful\n"
     ]
    },
    {
     "data": {
      "application/vnd.jupyter.widget-view+json": {
       "model_id": "3fc6dab03f184d89936053f85d71320b",
       "version_major": 2,
       "version_minor": 0
      },
      "text/plain": [
       "8b37a6c8fcf40b4bbd42efba6c446edb.grib:   0%|          | 0.00/279k [00:00<?, ?B/s]"
      ]
     },
     "metadata": {},
     "output_type": "display_data"
    },
    {
     "name": "stdout",
     "output_type": "stream",
     "text": [
      "1987-12-31\n"
     ]
    },
    {
     "name": "stderr",
     "output_type": "stream",
     "text": [
      "2025-04-09 16:41:05,003 INFO Request ID is 0c3711c5-0619-44da-bb2c-ca65e8bdc44b\n",
      "2025-04-09 16:41:05,215 INFO status has been updated to accepted\n",
      "2025-04-09 16:41:10,816 INFO status has been updated to running\n",
      "2025-04-09 16:41:14,372 INFO status has been updated to accepted\n",
      "2025-04-09 16:41:27,407 INFO status has been updated to successful\n"
     ]
    },
    {
     "data": {
      "application/vnd.jupyter.widget-view+json": {
       "model_id": "3867bacde85b4587a2a775d0f48917b6",
       "version_major": 2,
       "version_minor": 0
      },
      "text/plain": [
       "de07be8e1aee8a56d228418fa03b4758.grib:   0%|          | 0.00/279k [00:00<?, ?B/s]"
      ]
     },
     "metadata": {},
     "output_type": "display_data"
    },
    {
     "name": "stdout",
     "output_type": "stream",
     "text": [
      "1988-12-31\n"
     ]
    },
    {
     "name": "stderr",
     "output_type": "stream",
     "text": [
      "2025-04-09 16:41:37,993 INFO Request ID is abf917ce-ff60-4af2-87aa-788fa6e2ca64\n",
      "2025-04-09 16:41:38,230 INFO status has been updated to accepted\n",
      "2025-04-09 16:41:43,912 INFO status has been updated to running\n",
      "2025-04-09 16:41:52,804 INFO status has been updated to successful\n"
     ]
    },
    {
     "data": {
      "application/vnd.jupyter.widget-view+json": {
       "model_id": "5186eb644b024c139a524cad4ef4e003",
       "version_major": 2,
       "version_minor": 0
      },
      "text/plain": [
       "a4306464dc67abb07bdeba6409edb324.grib:   0%|          | 0.00/279k [00:00<?, ?B/s]"
      ]
     },
     "metadata": {},
     "output_type": "display_data"
    },
    {
     "name": "stdout",
     "output_type": "stream",
     "text": [
      "1989-12-31\n"
     ]
    },
    {
     "name": "stderr",
     "output_type": "stream",
     "text": [
      "2025-04-09 16:41:56,191 INFO Request ID is 1ea19963-a175-41c6-bec8-a2a4c9fd127d\n",
      "2025-04-09 16:41:56,565 INFO status has been updated to accepted\n",
      "2025-04-09 16:42:02,061 INFO status has been updated to running\n",
      "2025-04-09 16:42:10,966 INFO status has been updated to successful\n"
     ]
    },
    {
     "data": {
      "application/vnd.jupyter.widget-view+json": {
       "model_id": "e38355c2a95d4436b6b4d5abf5655104",
       "version_major": 2,
       "version_minor": 0
      },
      "text/plain": [
       "1b79b8a17bff6bdb94c4c629ba0cc759.grib:   0%|          | 0.00/279k [00:00<?, ?B/s]"
      ]
     },
     "metadata": {},
     "output_type": "display_data"
    },
    {
     "name": "stdout",
     "output_type": "stream",
     "text": [
      "1990-12-31\n"
     ]
    },
    {
     "name": "stderr",
     "output_type": "stream",
     "text": [
      "2025-04-09 16:42:14,285 INFO Request ID is f8844235-9e69-405e-9a1e-5c402fd25e13\n",
      "2025-04-09 16:42:14,474 INFO status has been updated to accepted\n",
      "2025-04-09 16:42:23,667 INFO status has been updated to running\n",
      "2025-04-09 16:42:28,977 INFO status has been updated to successful\n"
     ]
    },
    {
     "data": {
      "application/vnd.jupyter.widget-view+json": {
       "model_id": "ef5d3c53f924467b89b8f5625236fb1b",
       "version_major": 2,
       "version_minor": 0
      },
      "text/plain": [
       "5076a070b7bafd59a21f1580a718fcb8.grib:   0%|          | 0.00/279k [00:00<?, ?B/s]"
      ]
     },
     "metadata": {},
     "output_type": "display_data"
    },
    {
     "name": "stdout",
     "output_type": "stream",
     "text": [
      "1991-12-31\n"
     ]
    },
    {
     "name": "stderr",
     "output_type": "stream",
     "text": [
      "2025-04-09 16:42:32,336 INFO Request ID is b0465027-6d4e-45b3-9252-651cad97b064\n",
      "2025-04-09 16:42:32,512 INFO status has been updated to accepted\n",
      "2025-04-09 16:43:06,537 INFO status has been updated to running\n",
      "2025-04-09 16:43:23,831 INFO status has been updated to successful\n"
     ]
    },
    {
     "data": {
      "application/vnd.jupyter.widget-view+json": {
       "model_id": "d56a8fdac4a147409bfefedd73bddf55",
       "version_major": 2,
       "version_minor": 0
      },
      "text/plain": [
       "231f71335c4b98c110ab602a2696e72f.grib:   0%|          | 0.00/279k [00:00<?, ?B/s]"
      ]
     },
     "metadata": {},
     "output_type": "display_data"
    },
    {
     "name": "stdout",
     "output_type": "stream",
     "text": [
      "1992-12-31\n"
     ]
    },
    {
     "name": "stderr",
     "output_type": "stream",
     "text": [
      "2025-04-09 16:43:26,942 INFO Request ID is 05259ba9-ffed-484d-a5c6-d9bf1cd41306\n",
      "2025-04-09 16:43:27,140 INFO status has been updated to accepted\n",
      "2025-04-09 16:43:41,535 INFO status has been updated to running\n",
      "2025-04-09 16:44:00,983 INFO status has been updated to successful\n"
     ]
    },
    {
     "data": {
      "application/vnd.jupyter.widget-view+json": {
       "model_id": "83fa911bbdf941ad887c09d9499582b3",
       "version_major": 2,
       "version_minor": 0
      },
      "text/plain": [
       "dc2a3890c666437719ea27b6d4d458bf.grib:   0%|          | 0.00/279k [00:00<?, ?B/s]"
      ]
     },
     "metadata": {},
     "output_type": "display_data"
    },
    {
     "name": "stdout",
     "output_type": "stream",
     "text": [
      "1993-12-31\n"
     ]
    },
    {
     "name": "stderr",
     "output_type": "stream",
     "text": [
      "2025-04-09 16:44:04,339 INFO Request ID is c821fd8d-90ee-4f07-80fd-97ff6fb91165\n",
      "2025-04-09 16:44:04,549 INFO status has been updated to accepted\n",
      "2025-04-09 16:44:13,992 INFO status has been updated to running\n",
      "2025-04-09 16:44:27,072 INFO status has been updated to successful\n"
     ]
    },
    {
     "data": {
      "application/vnd.jupyter.widget-view+json": {
       "model_id": "2c719e20123547e6bbca805adc7c17ea",
       "version_major": 2,
       "version_minor": 0
      },
      "text/plain": [
       "28faacf4b3d4abdad230c57a6c18836c.grib:   0%|          | 0.00/279k [00:00<?, ?B/s]"
      ]
     },
     "metadata": {},
     "output_type": "display_data"
    },
    {
     "name": "stdout",
     "output_type": "stream",
     "text": [
      "1994-12-31\n"
     ]
    },
    {
     "name": "stderr",
     "output_type": "stream",
     "text": [
      "2025-04-09 16:44:30,231 INFO Request ID is 4779352b-d20b-4e98-be93-02eb57eedf11\n",
      "2025-04-09 16:44:30,690 INFO status has been updated to accepted\n",
      "2025-04-09 16:44:36,519 INFO status has been updated to running\n",
      "2025-04-09 16:44:40,085 INFO status has been updated to successful\n"
     ]
    },
    {
     "data": {
      "application/vnd.jupyter.widget-view+json": {
       "model_id": "1c7d8c5d7f294305aacdd2210c9ddba7",
       "version_major": 2,
       "version_minor": 0
      },
      "text/plain": [
       "ee46abec48a02e488d66a7b8d75d5243.grib:   0%|          | 0.00/279k [00:00<?, ?B/s]"
      ]
     },
     "metadata": {},
     "output_type": "display_data"
    },
    {
     "name": "stdout",
     "output_type": "stream",
     "text": [
      "1995-12-31\n"
     ]
    },
    {
     "name": "stderr",
     "output_type": "stream",
     "text": [
      "2025-04-09 16:44:43,490 INFO Request ID is e892f518-b50c-457c-9567-29e11787f00d\n",
      "2025-04-09 16:44:43,806 INFO status has been updated to accepted\n",
      "2025-04-09 16:44:49,645 INFO status has been updated to running\n",
      "2025-04-09 16:45:06,300 INFO status has been updated to successful\n"
     ]
    },
    {
     "data": {
      "application/vnd.jupyter.widget-view+json": {
       "model_id": "5c9a25dbae674552b709972766801edf",
       "version_major": 2,
       "version_minor": 0
      },
      "text/plain": [
       "db3cde6ad2f02bbdcbfe387c6bc8941.grib:   0%|          | 0.00/279k [00:00<?, ?B/s]"
      ]
     },
     "metadata": {},
     "output_type": "display_data"
    },
    {
     "name": "stdout",
     "output_type": "stream",
     "text": [
      "1996-12-31\n"
     ]
    },
    {
     "name": "stderr",
     "output_type": "stream",
     "text": [
      "2025-04-09 16:45:09,237 INFO Request ID is c8b45572-580e-4e14-89ab-52d4525a7680\n",
      "2025-04-09 16:45:09,444 INFO status has been updated to accepted\n",
      "2025-04-09 16:45:14,809 INFO status has been updated to running\n",
      "2025-04-09 16:45:23,679 INFO status has been updated to successful\n"
     ]
    },
    {
     "data": {
      "application/vnd.jupyter.widget-view+json": {
       "model_id": "14b1e6ce022d49939dca81062f68b0ec",
       "version_major": 2,
       "version_minor": 0
      },
      "text/plain": [
       "b1034cba9392265ced5a72eab9acd900.grib:   0%|          | 0.00/279k [00:00<?, ?B/s]"
      ]
     },
     "metadata": {},
     "output_type": "display_data"
    },
    {
     "name": "stdout",
     "output_type": "stream",
     "text": [
      "1997-12-31\n"
     ]
    },
    {
     "name": "stderr",
     "output_type": "stream",
     "text": [
      "2025-04-09 16:45:26,808 INFO Request ID is 6d2cd3c4-637b-40ea-8e1e-56e544b3ba7d\n",
      "2025-04-09 16:45:27,048 INFO status has been updated to accepted\n",
      "2025-04-09 16:45:32,482 INFO status has been updated to running\n",
      "2025-04-09 16:46:01,452 INFO status has been updated to successful\n"
     ]
    },
    {
     "data": {
      "application/vnd.jupyter.widget-view+json": {
       "model_id": "386cce56db004b41aedc5cc9af7f2986",
       "version_major": 2,
       "version_minor": 0
      },
      "text/plain": [
       "4e21107c41f02a88064b38f7dae8f016.grib:   0%|          | 0.00/279k [00:00<?, ?B/s]"
      ]
     },
     "metadata": {},
     "output_type": "display_data"
    },
    {
     "name": "stdout",
     "output_type": "stream",
     "text": [
      "1998-12-31\n"
     ]
    },
    {
     "name": "stderr",
     "output_type": "stream",
     "text": [
      "2025-04-09 16:46:04,512 INFO Request ID is 67ca8b78-b628-48a1-bf55-fb268a0edd54\n",
      "2025-04-09 16:46:04,724 INFO status has been updated to accepted\n",
      "2025-04-09 16:46:13,764 INFO status has been updated to running\n",
      "2025-04-09 16:46:26,963 INFO status has been updated to successful\n"
     ]
    },
    {
     "data": {
      "application/vnd.jupyter.widget-view+json": {
       "model_id": "9f2d7b5fcce34333ad53dfbe42f00e4e",
       "version_major": 2,
       "version_minor": 0
      },
      "text/plain": [
       "cac864c5bdcea2bec2fb74b51a97c40.grib:   0%|          | 0.00/279k [00:00<?, ?B/s]"
      ]
     },
     "metadata": {},
     "output_type": "display_data"
    },
    {
     "name": "stdout",
     "output_type": "stream",
     "text": [
      "1999-12-31\n"
     ]
    },
    {
     "name": "stderr",
     "output_type": "stream",
     "text": [
      "2025-04-09 16:46:30,439 INFO Request ID is 062b6cd0-b626-4ff1-b0a1-cef7d026a00a\n",
      "2025-04-09 16:46:30,674 INFO status has been updated to accepted\n",
      "2025-04-09 16:46:36,159 INFO status has been updated to running\n",
      "2025-04-09 16:46:52,789 INFO status has been updated to successful\n"
     ]
    },
    {
     "data": {
      "application/vnd.jupyter.widget-view+json": {
       "model_id": "e58a8b14e56541dfa8e2712e3edeabe4",
       "version_major": 2,
       "version_minor": 0
      },
      "text/plain": [
       "d38b497825940951929277fc99fc91dd.grib:   0%|          | 0.00/279k [00:00<?, ?B/s]"
      ]
     },
     "metadata": {},
     "output_type": "display_data"
    },
    {
     "name": "stdout",
     "output_type": "stream",
     "text": [
      "2000-12-31\n"
     ]
    },
    {
     "name": "stderr",
     "output_type": "stream",
     "text": [
      "2025-04-09 16:46:56,240 INFO Request ID is 1e5e0d52-1e07-4f67-b241-f9d59faa4b9b\n",
      "2025-04-09 16:46:56,414 INFO status has been updated to accepted\n",
      "2025-04-09 16:47:02,066 INFO status has been updated to running\n",
      "2025-04-09 16:47:19,241 INFO status has been updated to successful\n"
     ]
    },
    {
     "data": {
      "application/vnd.jupyter.widget-view+json": {
       "model_id": "051e7c872c984e18beace0f0205b089e",
       "version_major": 2,
       "version_minor": 0
      },
      "text/plain": [
       "dbdf5403e7612718b736dab3186dd159.grib:   0%|          | 0.00/279k [00:00<?, ?B/s]"
      ]
     },
     "metadata": {},
     "output_type": "display_data"
    },
    {
     "name": "stdout",
     "output_type": "stream",
     "text": [
      "2001-12-31\n"
     ]
    },
    {
     "name": "stderr",
     "output_type": "stream",
     "text": [
      "2025-04-09 16:47:22,212 INFO Request ID is 6bcf74ab-40d7-46f0-b16e-e0774fe15091\n",
      "2025-04-09 16:47:22,422 INFO status has been updated to accepted\n",
      "2025-04-09 16:47:27,765 INFO status has been updated to running\n",
      "2025-04-09 16:47:36,593 INFO status has been updated to successful\n"
     ]
    },
    {
     "data": {
      "application/vnd.jupyter.widget-view+json": {
       "model_id": "a1223ff69c494ab9b9f8055693377827",
       "version_major": 2,
       "version_minor": 0
      },
      "text/plain": [
       "212f45decab998cdce641015488aa494.grib:   0%|          | 0.00/279k [00:00<?, ?B/s]"
      ]
     },
     "metadata": {},
     "output_type": "display_data"
    },
    {
     "name": "stdout",
     "output_type": "stream",
     "text": [
      "2002-12-31\n"
     ]
    },
    {
     "name": "stderr",
     "output_type": "stream",
     "text": [
      "2025-04-09 16:47:39,814 INFO Request ID is 2bb0a5a9-d982-4ff2-9eeb-6228927f2303\n",
      "2025-04-09 16:47:40,014 INFO status has been updated to accepted\n",
      "2025-04-09 16:47:49,163 INFO status has been updated to running\n",
      "2025-04-09 16:48:02,731 INFO status has been updated to successful\n"
     ]
    },
    {
     "data": {
      "application/vnd.jupyter.widget-view+json": {
       "model_id": "d47b3d4ff0624ec39ef4c4d4219ec82b",
       "version_major": 2,
       "version_minor": 0
      },
      "text/plain": [
       "92dfdfa1994e70c9be39999da9e3d1a9.grib:   0%|          | 0.00/279k [00:00<?, ?B/s]"
      ]
     },
     "metadata": {},
     "output_type": "display_data"
    },
    {
     "name": "stdout",
     "output_type": "stream",
     "text": [
      "2003-12-31\n"
     ]
    },
    {
     "name": "stderr",
     "output_type": "stream",
     "text": [
      "2025-04-09 16:48:05,713 INFO Request ID is b5a4292e-70b3-40fb-9027-1bdeb4ac1fa3\n",
      "2025-04-09 16:48:06,075 INFO status has been updated to accepted\n",
      "2025-04-09 16:48:11,600 INFO status has been updated to running\n",
      "2025-04-09 16:48:20,505 INFO status has been updated to successful\n"
     ]
    },
    {
     "data": {
      "application/vnd.jupyter.widget-view+json": {
       "model_id": "e35b790b43044f2890bfa8db59c31db7",
       "version_major": 2,
       "version_minor": 0
      },
      "text/plain": [
       "2e8953df877ec7d90b508100c442299f.grib:   0%|          | 0.00/279k [00:00<?, ?B/s]"
      ]
     },
     "metadata": {},
     "output_type": "display_data"
    },
    {
     "name": "stdout",
     "output_type": "stream",
     "text": [
      "2004-12-31\n"
     ]
    },
    {
     "name": "stderr",
     "output_type": "stream",
     "text": [
      "2025-04-09 16:48:23,585 INFO Request ID is 25137d0a-9e32-4bb2-9b89-87c039f344cb\n",
      "2025-04-09 16:48:23,765 INFO status has been updated to accepted\n",
      "2025-04-09 16:48:32,672 INFO status has been updated to running\n",
      "2025-04-09 16:48:45,759 INFO status has been updated to successful\n"
     ]
    },
    {
     "data": {
      "application/vnd.jupyter.widget-view+json": {
       "model_id": "9a299d379c06434d866a0a571c2cd6c2",
       "version_major": 2,
       "version_minor": 0
      },
      "text/plain": [
       "756c085f209286321397c0bcb44b52cd.grib:   0%|          | 0.00/279k [00:00<?, ?B/s]"
      ]
     },
     "metadata": {},
     "output_type": "display_data"
    },
    {
     "name": "stdout",
     "output_type": "stream",
     "text": [
      "2005-12-31\n"
     ]
    },
    {
     "name": "stderr",
     "output_type": "stream",
     "text": [
      "2025-04-09 16:48:48,472 INFO Request ID is cf9dc26c-57b2-4f2f-9070-9c707d8dfdf3\n",
      "2025-04-09 16:48:48,644 INFO status has been updated to accepted\n",
      "2025-04-09 16:49:03,129 INFO status has been updated to running\n",
      "2025-04-09 16:49:10,901 INFO status has been updated to successful\n"
     ]
    },
    {
     "data": {
      "application/vnd.jupyter.widget-view+json": {
       "model_id": "d574447274a94d00b2b5629a4e70e466",
       "version_major": 2,
       "version_minor": 0
      },
      "text/plain": [
       "39b1ddc9b0635c993f240e6275a4d27b.grib:   0%|          | 0.00/279k [00:00<?, ?B/s]"
      ]
     },
     "metadata": {},
     "output_type": "display_data"
    },
    {
     "name": "stdout",
     "output_type": "stream",
     "text": [
      "2006-12-31\n"
     ]
    },
    {
     "name": "stderr",
     "output_type": "stream",
     "text": [
      "2025-04-09 16:49:13,967 INFO Request ID is f9fc259d-e7fa-44af-a849-d1e382357314\n",
      "2025-04-09 16:49:14,192 INFO status has been updated to accepted\n",
      "2025-04-09 16:49:29,350 INFO status has been updated to successful\n"
     ]
    },
    {
     "data": {
      "application/vnd.jupyter.widget-view+json": {
       "model_id": "0a9a7e5a6549410cb6eb91a75627e9e2",
       "version_major": 2,
       "version_minor": 0
      },
      "text/plain": [
       "a56745a2dc13ebfbea6d501bdf1d91ed.grib:   0%|          | 0.00/279k [00:00<?, ?B/s]"
      ]
     },
     "metadata": {},
     "output_type": "display_data"
    },
    {
     "name": "stdout",
     "output_type": "stream",
     "text": [
      "2007-12-31\n"
     ]
    },
    {
     "name": "stderr",
     "output_type": "stream",
     "text": [
      "2025-04-09 16:49:32,694 INFO Request ID is 59565db2-9736-49e4-b416-6501c20d7d89\n",
      "2025-04-09 16:49:32,886 INFO status has been updated to accepted\n",
      "2025-04-09 16:49:38,347 INFO status has been updated to running\n",
      "2025-04-09 16:49:47,165 INFO status has been updated to successful\n"
     ]
    },
    {
     "data": {
      "application/vnd.jupyter.widget-view+json": {
       "model_id": "6465c7be7d8f46ec8a8f8b9bf7b8b27a",
       "version_major": 2,
       "version_minor": 0
      },
      "text/plain": [
       "c5263b9601cb1511976b748845e0a9a2.grib:   0%|          | 0.00/279k [00:00<?, ?B/s]"
      ]
     },
     "metadata": {},
     "output_type": "display_data"
    },
    {
     "name": "stdout",
     "output_type": "stream",
     "text": [
      "2008-12-31\n"
     ]
    },
    {
     "name": "stderr",
     "output_type": "stream",
     "text": [
      "2025-04-09 16:49:49,766 INFO Request ID is 989d9d18-a2ff-493d-9fc5-54d02364f919\n",
      "2025-04-09 16:49:49,964 INFO status has been updated to accepted\n",
      "2025-04-09 16:49:58,993 INFO status has been updated to running\n",
      "2025-04-09 16:50:04,453 INFO status has been updated to successful\n"
     ]
    },
    {
     "data": {
      "application/vnd.jupyter.widget-view+json": {
       "model_id": "c9a166123fbd40b4bde591a54410f332",
       "version_major": 2,
       "version_minor": 0
      },
      "text/plain": [
       "9d7b81ee594304cdb3f72746b38865ab.grib:   0%|          | 0.00/279k [00:00<?, ?B/s]"
      ]
     },
     "metadata": {},
     "output_type": "display_data"
    },
    {
     "name": "stdout",
     "output_type": "stream",
     "text": [
      "2009-12-31\n"
     ]
    },
    {
     "name": "stderr",
     "output_type": "stream",
     "text": [
      "2025-04-09 16:50:08,456 INFO Request ID is 6232403f-1a18-4320-8c27-3e55e1e367f9\n",
      "2025-04-09 16:50:08,649 INFO status has been updated to accepted\n",
      "2025-04-09 16:50:14,179 INFO status has been updated to running\n",
      "2025-04-09 16:50:23,195 INFO status has been updated to successful\n"
     ]
    },
    {
     "data": {
      "application/vnd.jupyter.widget-view+json": {
       "model_id": "f846002ffeb3427ea78ed8481ada7141",
       "version_major": 2,
       "version_minor": 0
      },
      "text/plain": [
       "bb054fdbacd98b04947270efc7831dfa.grib:   0%|          | 0.00/279k [00:00<?, ?B/s]"
      ]
     },
     "metadata": {},
     "output_type": "display_data"
    },
    {
     "name": "stdout",
     "output_type": "stream",
     "text": [
      "2010-12-31\n"
     ]
    },
    {
     "name": "stderr",
     "output_type": "stream",
     "text": [
      "2025-04-09 16:50:28,596 INFO Request ID is 50695b26-e488-49e2-a8d2-8eb3910a2160\n",
      "2025-04-09 16:50:28,788 INFO status has been updated to accepted\n",
      "2025-04-09 16:50:51,505 INFO status has been updated to successful\n"
     ]
    },
    {
     "data": {
      "application/vnd.jupyter.widget-view+json": {
       "model_id": "22c38d787bdf4936a94526aa42133a06",
       "version_major": 2,
       "version_minor": 0
      },
      "text/plain": [
       "75706ac1e56b3802c43f4ef0af85e679.grib:   0%|          | 0.00/279k [00:00<?, ?B/s]"
      ]
     },
     "metadata": {},
     "output_type": "display_data"
    },
    {
     "name": "stdout",
     "output_type": "stream",
     "text": [
      "2011-12-31\n"
     ]
    },
    {
     "name": "stderr",
     "output_type": "stream",
     "text": [
      "2025-04-09 16:50:55,065 INFO Request ID is f6a527c9-704a-4bed-9714-1373001da37d\n",
      "2025-04-09 16:50:55,262 INFO status has been updated to accepted\n",
      "2025-04-09 16:51:17,340 INFO status has been updated to running\n",
      "2025-04-09 16:51:29,401 INFO status has been updated to successful\n"
     ]
    },
    {
     "data": {
      "application/vnd.jupyter.widget-view+json": {
       "model_id": "e5dde7f6997142cf9d116ab09b38bbc0",
       "version_major": 2,
       "version_minor": 0
      },
      "text/plain": [
       "6132d65c702595c7a92dfe25e7dd0996.grib:   0%|          | 0.00/279k [00:00<?, ?B/s]"
      ]
     },
     "metadata": {},
     "output_type": "display_data"
    },
    {
     "name": "stdout",
     "output_type": "stream",
     "text": [
      "2012-12-31\n"
     ]
    },
    {
     "name": "stderr",
     "output_type": "stream",
     "text": [
      "2025-04-09 16:51:32,867 INFO Request ID is 5bf7da43-cebf-4a8a-ae3e-0c30fdcebc29\n",
      "2025-04-09 16:51:33,048 INFO status has been updated to accepted\n",
      "2025-04-09 16:51:38,956 INFO status has been updated to running\n",
      "2025-04-09 16:51:42,561 INFO status has been updated to accepted\n",
      "2025-04-09 16:51:47,829 INFO status has been updated to successful\n"
     ]
    },
    {
     "data": {
      "application/vnd.jupyter.widget-view+json": {
       "model_id": "781a5287e65541cabbf5f54607476680",
       "version_major": 2,
       "version_minor": 0
      },
      "text/plain": [
       "23788a451e7016b6bfc38a4305b8517b.grib:   0%|          | 0.00/279k [00:00<?, ?B/s]"
      ]
     },
     "metadata": {},
     "output_type": "display_data"
    },
    {
     "name": "stdout",
     "output_type": "stream",
     "text": [
      "2013-12-31\n"
     ]
    },
    {
     "name": "stderr",
     "output_type": "stream",
     "text": [
      "2025-04-09 16:51:51,162 INFO Request ID is 4f8bcb21-dff5-4666-8a01-1e9e46812f63\n",
      "2025-04-09 16:51:51,357 INFO status has been updated to accepted\n",
      "2025-04-09 16:52:00,299 INFO status has been updated to running\n",
      "2025-04-09 16:52:05,657 INFO status has been updated to successful\n"
     ]
    },
    {
     "data": {
      "application/vnd.jupyter.widget-view+json": {
       "model_id": "94a2daad4e204f69b0bf48cba7f1c7b1",
       "version_major": 2,
       "version_minor": 0
      },
      "text/plain": [
       "d2ce6c64dafdf1adc0e0881fb7bc3f0d.grib:   0%|          | 0.00/279k [00:00<?, ?B/s]"
      ]
     },
     "metadata": {},
     "output_type": "display_data"
    },
    {
     "name": "stdout",
     "output_type": "stream",
     "text": [
      "2014-12-31\n"
     ]
    },
    {
     "name": "stderr",
     "output_type": "stream",
     "text": [
      "2025-04-09 16:52:09,506 INFO Request ID is 498e31a1-588c-4b49-ad27-2d689bc4afdc\n",
      "2025-04-09 16:52:09,915 INFO status has been updated to accepted\n",
      "2025-04-09 16:52:19,239 INFO status has been updated to running\n",
      "2025-04-09 16:52:24,484 INFO status has been updated to successful\n"
     ]
    },
    {
     "data": {
      "application/vnd.jupyter.widget-view+json": {
       "model_id": "699da7688ff8479485bb082e2a9b466e",
       "version_major": 2,
       "version_minor": 0
      },
      "text/plain": [
       "d12bab55d533303e195640fee343abfc.grib:   0%|          | 0.00/279k [00:00<?, ?B/s]"
      ]
     },
     "metadata": {},
     "output_type": "display_data"
    },
    {
     "name": "stdout",
     "output_type": "stream",
     "text": [
      "2015-12-31\n"
     ]
    },
    {
     "name": "stderr",
     "output_type": "stream",
     "text": [
      "2025-04-09 16:52:27,985 INFO Request ID is 378fec17-ae8e-4bc2-9abd-744b1c5d7f33\n",
      "2025-04-09 16:52:28,168 INFO status has been updated to accepted\n",
      "2025-04-09 16:52:33,533 INFO status has been updated to running\n",
      "2025-04-09 16:52:42,445 INFO status has been updated to successful\n"
     ]
    },
    {
     "data": {
      "application/vnd.jupyter.widget-view+json": {
       "model_id": "0afc772a040f4ea9bebbc7ba7c6fb305",
       "version_major": 2,
       "version_minor": 0
      },
      "text/plain": [
       "e5da1416dc8eb6a43c1c4ef04957e3a5.grib:   0%|          | 0.00/279k [00:00<?, ?B/s]"
      ]
     },
     "metadata": {},
     "output_type": "display_data"
    },
    {
     "name": "stdout",
     "output_type": "stream",
     "text": [
      "2016-12-31\n"
     ]
    },
    {
     "name": "stderr",
     "output_type": "stream",
     "text": [
      "2025-04-09 16:52:45,473 INFO Request ID is f5feb6f3-30ce-4389-8426-83566b2852a4\n",
      "2025-04-09 16:52:45,781 INFO status has been updated to accepted\n",
      "2025-04-09 16:52:51,308 INFO status has been updated to running\n",
      "2025-04-09 16:53:00,142 INFO status has been updated to successful\n"
     ]
    },
    {
     "data": {
      "application/vnd.jupyter.widget-view+json": {
       "model_id": "e766234d53b74d26a25239d950872e5c",
       "version_major": 2,
       "version_minor": 0
      },
      "text/plain": [
       "760c099fcac3a7a063b4dbcf0955a577.grib:   0%|          | 0.00/279k [00:00<?, ?B/s]"
      ]
     },
     "metadata": {},
     "output_type": "display_data"
    },
    {
     "name": "stdout",
     "output_type": "stream",
     "text": [
      "2017-12-31\n"
     ]
    },
    {
     "name": "stderr",
     "output_type": "stream",
     "text": [
      "2025-04-09 16:53:03,282 INFO Request ID is dba12b96-80e6-4aa8-895f-28db729787e3\n",
      "2025-04-09 16:53:03,574 INFO status has been updated to accepted\n",
      "2025-04-09 16:53:09,031 INFO status has been updated to running\n",
      "2025-04-09 16:53:18,044 INFO status has been updated to successful\n"
     ]
    },
    {
     "data": {
      "application/vnd.jupyter.widget-view+json": {
       "model_id": "76af3613b83849a6b033e3a0e2375798",
       "version_major": 2,
       "version_minor": 0
      },
      "text/plain": [
       "3cc5c5cd5b0b61c42e53cd2d6ba368d5.grib:   0%|          | 0.00/279k [00:00<?, ?B/s]"
      ]
     },
     "metadata": {},
     "output_type": "display_data"
    },
    {
     "name": "stdout",
     "output_type": "stream",
     "text": [
      "2018-12-31\n"
     ]
    },
    {
     "name": "stderr",
     "output_type": "stream",
     "text": [
      "2025-04-09 16:53:21,260 INFO Request ID is 576dd9e8-bdaf-4ce3-9716-61a8a08a144b\n",
      "2025-04-09 16:53:21,466 INFO status has been updated to accepted\n",
      "2025-04-09 16:53:43,485 INFO status has been updated to running\n",
      "2025-04-09 16:53:55,088 INFO status has been updated to successful\n"
     ]
    },
    {
     "data": {
      "application/vnd.jupyter.widget-view+json": {
       "model_id": "6e00517106794062a0b8b21b9d3d53f8",
       "version_major": 2,
       "version_minor": 0
      },
      "text/plain": [
       "b7175367236d439fee2f34eb2d9e2bee.grib:   0%|          | 0.00/279k [00:00<?, ?B/s]"
      ]
     },
     "metadata": {},
     "output_type": "display_data"
    },
    {
     "name": "stdout",
     "output_type": "stream",
     "text": [
      "2019-12-31\n"
     ]
    },
    {
     "name": "stderr",
     "output_type": "stream",
     "text": [
      "2025-04-09 16:53:58,373 INFO Request ID is 9859d2a0-5b40-4438-96ce-639a84ec208a\n",
      "2025-04-09 16:53:58,627 INFO status has been updated to accepted\n",
      "2025-04-09 16:54:04,018 INFO status has been updated to running\n",
      "2025-04-09 16:54:13,001 INFO status has been updated to successful\n"
     ]
    },
    {
     "data": {
      "application/vnd.jupyter.widget-view+json": {
       "model_id": "f700bd01f1a14f56a270628602dd0ed7",
       "version_major": 2,
       "version_minor": 0
      },
      "text/plain": [
       "ea26b135ddc534c4abf95f70abd08974.grib:   0%|          | 0.00/279k [00:00<?, ?B/s]"
      ]
     },
     "metadata": {},
     "output_type": "display_data"
    },
    {
     "name": "stdout",
     "output_type": "stream",
     "text": [
      "2020-12-31\n"
     ]
    },
    {
     "name": "stderr",
     "output_type": "stream",
     "text": [
      "2025-04-09 16:54:17,650 INFO Request ID is 744f8484-352c-4783-b96c-2806789424aa\n",
      "2025-04-09 16:54:17,865 INFO status has been updated to accepted\n",
      "2025-04-09 16:54:27,390 INFO status has been updated to running\n",
      "2025-04-09 16:54:52,121 INFO status has been updated to successful\n"
     ]
    },
    {
     "data": {
      "application/vnd.jupyter.widget-view+json": {
       "model_id": "d0beb3c345534d36984a3a57de337565",
       "version_major": 2,
       "version_minor": 0
      },
      "text/plain": [
       "b00377231437f374a488a1233a6f2619.grib:   0%|          | 0.00/279k [00:00<?, ?B/s]"
      ]
     },
     "metadata": {},
     "output_type": "display_data"
    },
    {
     "name": "stdout",
     "output_type": "stream",
     "text": [
      "2021-12-31\n"
     ]
    },
    {
     "name": "stderr",
     "output_type": "stream",
     "text": [
      "2025-04-09 16:54:57,977 INFO Request ID is 5e3743c6-af6b-4a4f-b1da-be5f86f907cf\n",
      "2025-04-09 16:54:58,183 INFO status has been updated to accepted\n",
      "2025-04-09 16:55:03,572 INFO status has been updated to running\n",
      "2025-04-09 16:55:12,606 INFO status has been updated to successful\n"
     ]
    },
    {
     "data": {
      "application/vnd.jupyter.widget-view+json": {
       "model_id": "80ebb4111c9a46f699e49e8837eedd8e",
       "version_major": 2,
       "version_minor": 0
      },
      "text/plain": [
       "596c33c5eacc12fbdeba99e52719044c.grib:   0%|          | 0.00/279k [00:00<?, ?B/s]"
      ]
     },
     "metadata": {},
     "output_type": "display_data"
    },
    {
     "name": "stdout",
     "output_type": "stream",
     "text": [
      "2022-12-31\n"
     ]
    },
    {
     "name": "stderr",
     "output_type": "stream",
     "text": [
      "2025-04-09 16:55:17,268 INFO Request ID is 734f5989-aa28-4131-92c6-e0928ea272ae\n",
      "2025-04-09 16:55:17,445 INFO status has been updated to accepted\n",
      "2025-04-09 16:55:22,945 INFO status has been updated to running\n",
      "2025-04-09 16:55:39,775 INFO status has been updated to successful\n"
     ]
    },
    {
     "data": {
      "application/vnd.jupyter.widget-view+json": {
       "model_id": "309ea30f069b4918b4b86f75c95cfd4a",
       "version_major": 2,
       "version_minor": 0
      },
      "text/plain": [
       "95a5b4241d0cd6df52578b4a6504128f.grib:   0%|          | 0.00/279k [00:00<?, ?B/s]"
      ]
     },
     "metadata": {},
     "output_type": "display_data"
    },
    {
     "name": "stdout",
     "output_type": "stream",
     "text": [
      "2023-12-31\n"
     ]
    },
    {
     "name": "stderr",
     "output_type": "stream",
     "text": [
      "2025-04-09 16:55:42,690 INFO Request ID is 14978df4-cbe6-418d-91ac-40a297ef8ad1\n",
      "2025-04-09 16:55:42,913 INFO status has been updated to accepted\n",
      "2025-04-09 16:56:59,985 INFO status has been updated to running\n",
      "2025-04-09 16:57:38,646 INFO status has been updated to successful\n"
     ]
    },
    {
     "data": {
      "application/vnd.jupyter.widget-view+json": {
       "model_id": "c738fd1d14354ae29a7279014db34532",
       "version_major": 2,
       "version_minor": 0
      },
      "text/plain": [
       "cfbafd7aedbbfcdc12b649caea4a8ac7.grib:   0%|          | 0.00/3.00M [00:00<?, ?B/s]"
      ]
     },
     "metadata": {},
     "output_type": "display_data"
    },
    {
     "name": "stderr",
     "output_type": "stream",
     "text": [
      "2025-04-09 16:57:46,499 INFO Request ID is 2ffb940b-229e-443f-af15-c89d4765c6e3\n",
      "2025-04-09 16:57:46,708 INFO status has been updated to accepted\n",
      "2025-04-09 16:57:55,764 INFO status has been updated to running\n",
      "2025-04-09 16:58:20,730 INFO status has been updated to successful\n"
     ]
    },
    {
     "data": {
      "application/vnd.jupyter.widget-view+json": {
       "model_id": "ac71af64fbd04efeaa3793557baed599",
       "version_major": 2,
       "version_minor": 0
      },
      "text/plain": [
       "b65752bafbd5117248702b76c7415ae4.grib:   0%|          | 0.00/3.00M [00:00<?, ?B/s]"
      ]
     },
     "metadata": {},
     "output_type": "display_data"
    },
    {
     "name": "stderr",
     "output_type": "stream",
     "text": [
      "2025-04-09 16:58:27,319 INFO Request ID is dab4fd5f-fe5e-4f4d-bb83-f530317f469d\n",
      "2025-04-09 16:58:27,511 INFO status has been updated to accepted\n",
      "2025-04-09 16:58:37,197 INFO status has been updated to running\n",
      "2025-04-09 16:59:20,423 INFO status has been updated to successful\n"
     ]
    },
    {
     "data": {
      "application/vnd.jupyter.widget-view+json": {
       "model_id": "573afbdd40064761b38ba94a3fe7d5ff",
       "version_major": 2,
       "version_minor": 0
      },
      "text/plain": [
       "68b54557fa6988da35cbed1d1be7b809.grib:   0%|          | 0.00/3.00M [00:00<?, ?B/s]"
      ]
     },
     "metadata": {},
     "output_type": "display_data"
    },
    {
     "name": "stderr",
     "output_type": "stream",
     "text": [
      "2025-04-09 16:59:25,949 INFO Request ID is 01901c3d-b64c-43ed-a0fa-14028fb4384e\n",
      "2025-04-09 16:59:26,411 INFO status has been updated to accepted\n",
      "2025-04-09 16:59:35,341 INFO status has been updated to running\n",
      "2025-04-09 17:00:17,458 INFO status has been updated to successful\n"
     ]
    },
    {
     "data": {
      "application/vnd.jupyter.widget-view+json": {
       "model_id": "a3b551802fbd40ce91dba02248a0a99c",
       "version_major": 2,
       "version_minor": 0
      },
      "text/plain": [
       "b7ee58e95f6b9ad6870db8a60c72c0cb.grib:   0%|          | 0.00/3.00M [00:00<?, ?B/s]"
      ]
     },
     "metadata": {},
     "output_type": "display_data"
    },
    {
     "name": "stderr",
     "output_type": "stream",
     "text": [
      "2025-04-09 17:00:23,899 INFO Request ID is c97f9a13-b1a3-403b-b306-71e6207af260\n",
      "2025-04-09 17:00:24,273 INFO status has been updated to accepted\n",
      "2025-04-09 17:00:33,246 INFO status has been updated to running\n",
      "2025-04-09 17:01:15,307 INFO status has been updated to successful\n"
     ]
    },
    {
     "data": {
      "application/vnd.jupyter.widget-view+json": {
       "model_id": "4757f0b374f7459d9483111bbe428a0e",
       "version_major": 2,
       "version_minor": 0
      },
      "text/plain": [
       "9faca919267ff6eef7a53220ef6ff284.grib:   0%|          | 0.00/3.00M [00:00<?, ?B/s]"
      ]
     },
     "metadata": {},
     "output_type": "display_data"
    },
    {
     "name": "stderr",
     "output_type": "stream",
     "text": [
      "2025-04-09 17:01:26,076 INFO Request ID is 10f12e2f-72d8-43c3-bab9-29b7d26aa8f8\n",
      "2025-04-09 17:01:26,462 INFO status has been updated to accepted\n",
      "2025-04-09 17:01:39,324 INFO status has been updated to running\n",
      "2025-04-09 17:02:08,177 INFO status has been updated to successful\n"
     ]
    },
    {
     "data": {
      "application/vnd.jupyter.widget-view+json": {
       "model_id": "fe3ed8ff14ca40c7bef3414517727ce4",
       "version_major": 2,
       "version_minor": 0
      },
      "text/plain": [
       "f5a1ad9f1e2c4aeea96b0be207972478.grib:   0%|          | 0.00/3.00M [00:00<?, ?B/s]"
      ]
     },
     "metadata": {},
     "output_type": "display_data"
    },
    {
     "name": "stderr",
     "output_type": "stream",
     "text": [
      "2025-04-09 17:02:43,364 INFO Request ID is 76064409-f729-4d2b-b0ea-ef6238914c74\n",
      "2025-04-09 17:02:43,547 INFO status has been updated to accepted\n",
      "2025-04-09 17:02:49,117 INFO status has been updated to running\n",
      "2025-04-09 17:04:01,259 INFO status has been updated to successful\n"
     ]
    },
    {
     "data": {
      "application/vnd.jupyter.widget-view+json": {
       "model_id": "d9e3ea0242dd45bab990669acdd8a28f",
       "version_major": 2,
       "version_minor": 0
      },
      "text/plain": [
       "b8dd62cc83d8b8552d0101fbfb164452.grib:   0%|          | 0.00/3.00M [00:00<?, ?B/s]"
      ]
     },
     "metadata": {},
     "output_type": "display_data"
    },
    {
     "name": "stderr",
     "output_type": "stream",
     "text": [
      "2025-04-09 17:04:08,367 INFO Request ID is 6294b921-d5ca-4ce9-9a18-7d543f0159bf\n",
      "2025-04-09 17:04:08,591 INFO status has been updated to accepted\n",
      "2025-04-09 17:04:17,666 INFO status has been updated to running\n",
      "2025-04-09 17:04:59,682 INFO status has been updated to successful\n"
     ]
    },
    {
     "data": {
      "application/vnd.jupyter.widget-view+json": {
       "model_id": "b404d52ea9d0416f8cdc6fbc25b67224",
       "version_major": 2,
       "version_minor": 0
      },
      "text/plain": [
       "bc0b1dea25a139498ac7bfdfe6ee7f08.grib:   0%|          | 0.00/3.00M [00:00<?, ?B/s]"
      ]
     },
     "metadata": {},
     "output_type": "display_data"
    },
    {
     "name": "stderr",
     "output_type": "stream",
     "text": [
      "2025-04-09 17:05:13,725 INFO Request ID is a33717a5-77aa-4cbd-8167-6caf24f35eba\n",
      "2025-04-09 17:05:13,920 INFO status has been updated to accepted\n",
      "2025-04-09 17:05:28,399 INFO status has been updated to running\n",
      "2025-04-09 17:05:47,800 INFO status has been updated to successful\n"
     ]
    },
    {
     "data": {
      "application/vnd.jupyter.widget-view+json": {
       "model_id": "d3739562434542179a9bad9a54f20eca",
       "version_major": 2,
       "version_minor": 0
      },
      "text/plain": [
       "cdd1c6029bccfb64bd192e8d3b5556c4.grib:   0%|          | 0.00/2.79M [00:00<?, ?B/s]"
      ]
     },
     "metadata": {},
     "output_type": "display_data"
    },
    {
     "ename": "NameError",
     "evalue": "name 'combined_ts' is not defined",
     "output_type": "error",
     "traceback": [
      "\u001b[1;31m---------------------------------------------------------------------------\u001b[0m",
      "\u001b[1;31mNameError\u001b[0m                                 Traceback (most recent call last)",
      "Cell \u001b[1;32mIn[6], line 65\u001b[0m\n\u001b[0;32m     62\u001b[0m     os\u001b[38;5;241m.\u001b[39mremove(\u001b[38;5;124mf\u001b[39m\u001b[38;5;124m'\u001b[39m\u001b[38;5;124mdownloads/\u001b[39m\u001b[38;5;132;01m{\u001b[39;00mname\u001b[38;5;132;01m}\u001b[39;00m\u001b[38;5;124m.grib\u001b[39m\u001b[38;5;124m'\u001b[39m)\n\u001b[0;32m     63\u001b[0m     os\u001b[38;5;241m.\u001b[39mremove(\u001b[38;5;124mf\u001b[39m\u001b[38;5;124m'\u001b[39m\u001b[38;5;124mdownloads/\u001b[39m\u001b[38;5;132;01m{\u001b[39;00mname\u001b[38;5;132;01m}\u001b[39;00m\u001b[38;5;124m.grib.5b7b6.idx\u001b[39m\u001b[38;5;124m'\u001b[39m)\n\u001b[1;32m---> 65\u001b[0m \u001b[38;5;28;01mif\u001b[39;00m \u001b[38;5;28mlen\u001b[39m(\u001b[43mcombined_ts\u001b[49m)\u001b[38;5;241m>\u001b[39m\u001b[38;5;241m0\u001b[39m: \u001b[38;5;66;03m# if its not a decade data\u001b[39;00m\n\u001b[0;32m     66\u001b[0m     combined_ts \u001b[38;5;241m=\u001b[39m xr\u001b[38;5;241m.\u001b[39mconcat(ts_list,dim\u001b[38;5;241m=\u001b[39m\u001b[38;5;124m'\u001b[39m\u001b[38;5;124mtime\u001b[39m\u001b[38;5;124m'\u001b[39m)\n\u001b[0;32m     67\u001b[0m     combined_ts\u001b[38;5;241m.\u001b[39mto_netcdf(\u001b[38;5;124m'\u001b[39m\u001b[38;5;124mdownloads/annual.nc\u001b[39m\u001b[38;5;124m'\u001b[39m)\n",
      "\u001b[1;31mNameError\u001b[0m: name 'combined_ts' is not defined"
     ]
    }
   ],
   "source": [
    "# Get the years available in the dataset\n",
    "years = list(range(1950,2024,1))\n",
    "\n",
    "#List the decades (as string) to be downloaded\n",
    "decades = ['1951-1961','1955-1965','1961-1971','1971-1981','1981-1991','1991-2001','2001-2011','2011-2021','2015 -2025']\n",
    "#Get the decades as a list of years\n",
    "new_decades = []\n",
    "for decade in decades:\n",
    "    decade = decade.split('-')\n",
    "    decade = range(int(decade[0]),int(decade[1])+1,1)\n",
    "    new_decades.append(list(decade))\n",
    "\n",
    "#Query is the single yers and the decades. The decades are lists inside the list for the query\n",
    "query = years + new_decades\n",
    "\n",
    "ts_list = []#The timeseries list\n",
    "#Iterate through the query list, if its a decade, get the first and last year and use to save the downloaded data\n",
    "for year in query:\n",
    "    if isinstance(year, list): # if its the decade data\n",
    "        name = f\"{year[0]}-{year[-1]}\"\n",
    "    else:\n",
    "        name = year\n",
    "    \n",
    "    ## RETRIEVE THE DATASET\n",
    "    dataset = \"reanalysis-era5-land-monthly-means\"\n",
    "    request = {\n",
    "        \"product_type\": [\"monthly_averaged_reanalysis\"],\n",
    "        \"variable\": [\"2m_temperature\"],\n",
    "        \"year\": year,\n",
    "        \"month\": [\n",
    "            \"01\", \"02\", \"03\",\n",
    "            \"04\", \"05\", \"06\",\n",
    "            \"07\", \"08\", \"09\",\n",
    "            \"10\", \"11\", \"12\"\n",
    "        ],\n",
    "        \"time\": [\"00:00\"],\n",
    "        \"data_format\": \"grib\",\n",
    "        \"download_format\": \"unarchived\",\n",
    "        \"area\": [13.894419, 2.668534, 4.273007, 14.678816]\n",
    "    }\n",
    "\n",
    "\n",
    "    target = f\"downloads/{name}.grib\"\n",
    "    #print(target)\n",
    "    client.retrieve(dataset, request, target)\n",
    "\n",
    "    # Average the dataset to get the annual or decade average temperature\n",
    "    dataset = xr.open_dataset(f'downloads/{name}.grib',engine='cfgrib')\n",
    "    annual_temp = dataset['t2m'].mean(dim='time')\n",
    "\n",
    "    if isinstance(year, list)==False: # if its not a decade data\n",
    "        print(f\"{year}-12-31\")\n",
    "        date_time = pd.to_datetime([f\"{year}-12-31\"])\n",
    "        ds_new = annual_temp.to_dataset(name='t2m')\n",
    "        ds_new = ds_new.expand_dims(time=date_time)\n",
    "        ts_list.append(ds_new)\n",
    "    \n",
    "    else:\n",
    "        annual_temp.to_netcdf(f'downloads/{name}.nc')\n",
    "    \n",
    "    #annual_temp.to_netcdf(f'downloads/{name}.nc')\n",
    "    os.remove(f'downloads/{name}.grib')\n",
    "    os.remove(f'downloads/{name}.grib.5b7b6.idx')\n",
    "\n",
    "#if len(combined_ts)>0: # if its not a decade data\n",
    "#    combined_ts = xr.concat(ts_list,dim='time')\n",
    "#    combined_ts.to_netcdf('downloads/annual.nc')"
   ]
  },
  {
   "cell_type": "code",
   "execution_count": 7,
   "metadata": {},
   "outputs": [],
   "source": [
    "combined_ts = xr.concat(ts_list,dim='time')\n",
    "combined_ts.to_netcdf('downloads/annual.nc')"
   ]
  },
  {
   "cell_type": "code",
   "execution_count": null,
   "metadata": {},
   "outputs": [],
   "source": []
  }
 ],
 "metadata": {
  "kernelspec": {
   "display_name": "Python 3",
   "language": "python",
   "name": "python3"
  },
  "language_info": {
   "codemirror_mode": {
    "name": "ipython",
    "version": 3
   },
   "file_extension": ".py",
   "mimetype": "text/x-python",
   "name": "python",
   "nbconvert_exporter": "python",
   "pygments_lexer": "ipython3",
   "version": "3.11.3"
  }
 },
 "nbformat": 4,
 "nbformat_minor": 2
}
